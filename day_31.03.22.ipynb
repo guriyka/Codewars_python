{
 "cells": [
  {
   "cell_type": "markdown",
   "id": "a920f1e9",
   "metadata": {},
   "source": [
    "### Anagram Detection"
   ]
  },
  {
   "cell_type": "markdown",
   "id": "1cd478cb",
   "metadata": {},
   "source": [
    "#### An anagram is the result of rearranging the letters of a word to produce a new word (see wikipedia).\n",
    "#### Note: anagrams are case insensitive.\n",
    "#### Complete the function to return true if the two arguments given are anagrams of each other; return false otherwise."
   ]
  },
  {
   "cell_type": "code",
   "execution_count": 1,
   "id": "53038ecd",
   "metadata": {},
   "outputs": [],
   "source": [
    "def is_anagram(test, original):\n",
    "    return sorted(original.lower()) == sorted(test.lower())"
   ]
  },
  {
   "cell_type": "markdown",
   "id": "cb306173",
   "metadata": {},
   "source": [
    "### Find the capitals"
   ]
  },
  {
   "cell_type": "markdown",
   "id": "0704e732",
   "metadata": {},
   "source": [
    "#### Write a function that takes a single string (word) as argument. The function must return an ordered list containing the indexes of all capital letters in the string."
   ]
  },
  {
   "cell_type": "code",
   "execution_count": 30,
   "id": "8ddccace",
   "metadata": {},
   "outputs": [
    {
     "data": {
      "text/plain": [
       "[0, 3, 7, 8]"
      ]
     },
     "execution_count": 30,
     "metadata": {},
     "output_type": "execute_result"
    }
   ],
   "source": [
    "def capitals_1(word):\n",
    "    a = []\n",
    "    d = 0\n",
    "    for i in word:\n",
    "        if  i.isupper(): # Return True if all cased characters in the string are uppercase and there is at least one cased character, False otherwise\n",
    "            a.append(d)\n",
    "        d += 1\n",
    "    return a\n",
    "capitals_1('WerIlkjVB')\n"
   ]
  },
  {
   "cell_type": "code",
   "execution_count": 33,
   "id": "6b6dc2f8",
   "metadata": {},
   "outputs": [
    {
     "data": {
      "text/plain": [
       "[0, 3, 7, 8]"
      ]
     },
     "execution_count": 33,
     "metadata": {},
     "output_type": "execute_result"
    }
   ],
   "source": [
    "# enumerate - Return an enumerate object. https://docs.python.org/3/library/functions.html#enumerate\n",
    "def capitals(word):\n",
    "    return [i for (i, c) in enumerate(word) if c.isupper()]\n",
    "capitals('WerIlkjVB')"
   ]
  },
  {
   "cell_type": "markdown",
   "id": "0a5da22b",
   "metadata": {},
   "source": [
    "### Find the next perfect square!"
   ]
  },
  {
   "cell_type": "markdown",
   "id": "5a7ca62d",
   "metadata": {},
   "source": [
    "#### Complete the findNextSquare method that finds the next integral perfect square after the one passed as a parameter\n",
    "#### If the parameter is itself not a perfect square then -1 "
   ]
  },
  {
   "cell_type": "code",
   "execution_count": 61,
   "id": "f5edb5f9",
   "metadata": {},
   "outputs": [
    {
     "data": {
      "text/plain": [
       "144"
      ]
     },
     "execution_count": 61,
     "metadata": {},
     "output_type": "execute_result"
    }
   ],
   "source": [
    "import math\n",
    "def find_next_square(sq):\n",
    "    n = (math.sqrt(sq))\n",
    "    if int(n)**2 == sq:\n",
    "        return int((n+1)**2)\n",
    "    else:\n",
    "        return -1\n",
    "find_next_square(121)"
   ]
  },
  {
   "cell_type": "markdown",
   "id": "98d90012",
   "metadata": {},
   "source": [
    "### Simple Fun: Reverse Letter"
   ]
  },
  {
   "cell_type": "markdown",
   "id": "67b82709",
   "metadata": {},
   "source": [
    "#### Given a string str, reverse it omitting all non-alphabetic characters."
   ]
  },
  {
   "cell_type": "code",
   "execution_count": 70,
   "id": "7c9432e7",
   "metadata": {},
   "outputs": [
    {
     "name": "stdout",
     "output_type": "stream",
     "text": [
      "hfdkJds\n"
     ]
    }
   ],
   "source": [
    "def reverse_letter(string):\n",
    "    a = [c for c in string if c.isalpha()]\n",
    "    result = ''.join(a)[::-1]\n",
    "    print(result)\n",
    "reverse_letter('sd85Jkdfh')          "
   ]
  },
  {
   "cell_type": "code",
   "execution_count": 71,
   "id": "65ae1e24",
   "metadata": {},
   "outputs": [],
   "source": [
    "def reverse_letter(s):\n",
    "  return ''.join([i for i in s if i.isalpha()])[::-1]"
   ]
  },
  {
   "cell_type": "code",
   "execution_count": null,
   "id": "3aae4042",
   "metadata": {},
   "outputs": [],
   "source": []
  },
  {
   "cell_type": "code",
   "execution_count": null,
   "id": "9e67a55c",
   "metadata": {},
   "outputs": [],
   "source": []
  }
 ],
 "metadata": {
  "kernelspec": {
   "display_name": "Python 3 (ipykernel)",
   "language": "python",
   "name": "python3"
  },
  "language_info": {
   "codemirror_mode": {
    "name": "ipython",
    "version": 3
   },
   "file_extension": ".py",
   "mimetype": "text/x-python",
   "name": "python",
   "nbconvert_exporter": "python",
   "pygments_lexer": "ipython3",
   "version": "3.9.7"
  }
 },
 "nbformat": 4,
 "nbformat_minor": 5
}
