{
 "cells": [
  {
   "cell_type": "markdown",
   "id": "87c14f22",
   "metadata": {},
   "source": [
    "### Anagram Detection"
   ]
  },
  {
   "cell_type": "markdown",
   "id": "b04ec746",
   "metadata": {},
   "source": [
    "#### An anagram is the result of rearranging the letters of a word to produce a new word (see wikipedia). Note: anagrams are case insensitive. Complete the function to return true if the two arguments given are anagrams of each other; return false otherwise."
   ]
  },
  {
   "cell_type": "code",
   "execution_count": 1,
   "id": "c8060e44",
   "metadata": {},
   "outputs": [],
   "source": [
    "def is_anagram(test, original):\n",
    "    return sorted(original.lower()) == sorted(test.lower())"
   ]
  },
  {
   "cell_type": "markdown",
   "id": "c2fe24b1",
   "metadata": {},
   "source": [
    "### Find the capitals"
   ]
  },
  {
   "cell_type": "markdown",
   "id": "24f26808",
   "metadata": {},
   "source": [
    "#### Write a function that takes a single string (word) as argument. The function must return an ordered list containing the indexes of all capital letters in the string."
   ]
  },
  {
   "cell_type": "code",
   "execution_count": 30,
   "id": "b06ce78e",
   "metadata": {},
   "outputs": [
    {
     "data": {
      "text/plain": [
       "[0, 3, 7, 8]"
      ]
     },
     "execution_count": 30,
     "metadata": {},
     "output_type": "execute_result"
    }
   ],
   "source": [
    "def capitals_1(word):\n",
    "    a = []\n",
    "    d = 0\n",
    "    for i in word:\n",
    "        if  i.isupper(): # Return True if all cased characters in the string are uppercase and there is at least one cased character, False otherwise\n",
    "            a.append(d)\n",
    "        d += 1\n",
    "    return a\n",
    "capitals_1('WerIlkjVB')\n"
   ]
  },
  {
   "cell_type": "code",
   "execution_count": 33,
   "id": "4adc1c29",
   "metadata": {},
   "outputs": [
    {
     "data": {
      "text/plain": [
       "[0, 3, 7, 8]"
      ]
     },
     "execution_count": 33,
     "metadata": {},
     "output_type": "execute_result"
    }
   ],
   "source": [
    "# enumerate - Return an enumerate object. https://docs.python.org/3/library/functions.html#enumerate\n",
    "def capitals(word):\n",
    "    return [i for (i, c) in enumerate(word) if c.isupper()]\n",
    "capitals('WerIlkjVB')"
   ]
  },
  {
   "cell_type": "markdown",
   "id": "7f9f7230",
   "metadata": {},
   "source": [
    "### Find the next perfect square!"
   ]
  },
  {
   "cell_type": "markdown",
   "id": "f6871a9c",
   "metadata": {},
   "source": [
    "#### Complete the findNextSquare method that finds the next integral perfect square after the one passed as a parameter If the parameter is itself not a perfect square then -1 "
   ]
  },
  {
   "cell_type": "code",
   "execution_count": 61,
   "id": "a5e2658e",
   "metadata": {},
   "outputs": [
    {
     "data": {
      "text/plain": [
       "144"
      ]
     },
     "execution_count": 61,
     "metadata": {},
     "output_type": "execute_result"
    }
   ],
   "source": [
    "import math\n",
    "def find_next_square(sq):\n",
    "    n = (math.sqrt(sq))\n",
    "    if int(n)**2 == sq:\n",
    "        return int((n+1)**2)\n",
    "    else:\n",
    "        return -1\n",
    "find_next_square(121)"
   ]
  },
  {
   "cell_type": "markdown",
   "id": "49a9a0c0",
   "metadata": {},
   "source": [
    "### Simple Fun: Reverse Letter"
   ]
  },
  {
   "cell_type": "markdown",
   "id": "1279bcb9",
   "metadata": {},
   "source": [
    "#### Given a string str, reverse it omitting all non-alphabetic characters."
   ]
  },
  {
   "cell_type": "code",
   "execution_count": 70,
   "id": "45e6069c",
   "metadata": {},
   "outputs": [
    {
     "name": "stdout",
     "output_type": "stream",
     "text": [
      "hfdkJds\n"
     ]
    }
   ],
   "source": [
    "def reverse_letter(string):\n",
    "    a = [c for c in string if c.isalpha()]\n",
    "    result = ''.join(a)[::-1]\n",
    "    print(result)\n",
    "reverse_letter('sd85Jkdfh')          "
   ]
  },
  {
   "cell_type": "code",
   "execution_count": 71,
   "id": "dd9e2a6e",
   "metadata": {},
   "outputs": [],
   "source": [
    "def reverse_letter(s):\n",
    "  return ''.join([i for i in s if i.isalpha()])[::-1]"
   ]
  },
  {
   "cell_type": "markdown",
   "id": "9afdbc48",
   "metadata": {},
   "source": [
    "### Sum of Minimums"
   ]
  },
  {
   "cell_type": "markdown",
   "id": "e49806ca",
   "metadata": {},
   "source": [
    "#### Given a 2D ( nested ) list ( array, vector, .. ) of size m * n, your task is to find the sum of the minimum values in each row."
   ]
  },
  {
   "cell_type": "code",
   "execution_count": 87,
   "id": "7f972793",
   "metadata": {},
   "outputs": [
    {
     "data": {
      "text/plain": [
       "26"
      ]
     },
     "execution_count": 87,
     "metadata": {},
     "output_type": "execute_result"
    }
   ],
   "source": [
    "def sum_of_minimums(numbers):\n",
    "    return sum(min(i) for i in numbers)\n",
    "sum_of_minimums([ [ 1, 2, 3, 4, 5 ]        #  minimum value of row is 1\n",
    "                , [ 5, 6, 7, 8, 9 ]        #  minimum value of row is 5\n",
    "                , [ 20, 21, 34, 56, 100 ]  #  minimum value of row is 20\n",
    "                ])"
   ]
  },
  {
   "cell_type": "markdown",
   "id": "5fdaaa5f",
   "metadata": {},
   "source": [
    "### Isograms"
   ]
  },
  {
   "cell_type": "markdown",
   "id": "e09baeee",
   "metadata": {},
   "source": [
    "### An isogram is a word that has no repeating letters, consecutive or non-consecutive. Implement a function that determines whether a string that contains only letters is an isogram. Assume the empty string is an isogram. Ignore letter case."
   ]
  },
  {
   "cell_type": "code",
   "execution_count": 102,
   "id": "2e075e8f",
   "metadata": {},
   "outputs": [
    {
     "data": {
      "text/plain": [
       "False"
      ]
     },
     "execution_count": 102,
     "metadata": {},
     "output_type": "execute_result"
    }
   ],
   "source": [
    "def is_isogram(string):\n",
    "    if len(string.lower()) == len(set(string.lower())):\n",
    "        return True\n",
    "    return False\n",
    "is_isogram('yhYnmjuik')"
   ]
  },
  {
   "cell_type": "markdown",
   "id": "1bed86de",
   "metadata": {},
   "source": [
    "### Categorize New Member"
   ]
  },
  {
   "cell_type": "markdown",
   "id": "a35f0dba",
   "metadata": {},
   "source": [
    "#### The Western Suburbs Croquet Club has two categories of membership, Senior and Open. They would like your help with an application form that will tell prospective members which category they will be placed. To be a senior, a member must be at least 55 years old and have a handicap greater than 7. In this croquet club, handicaps range from -2 to +26; the better the player the lower the handicap. Input: Input will consist of a list of pairs. Each pair contains information for a single potential member. Information consists of an integer for the person's age and an integer for the person's handicap. Output: Output will consist of a list of string values (in Haskell: Open or Senior) stating whether the respective member is to be placed in the senior or open category."
   ]
  },
  {
   "cell_type": "code",
   "execution_count": 116,
   "id": "abddcfd5",
   "metadata": {},
   "outputs": [
    {
     "data": {
      "text/plain": [
       "['Open', 'Open', 'Senior', 'Open', 'Open', 'Senior']"
      ]
     },
     "execution_count": 116,
     "metadata": {},
     "output_type": "execute_result"
    }
   ],
   "source": [
    "def open_or_senior(data):\n",
    "    return [\"Senior\" if i[0] >= 55 and i[1] > 7 else \"Open\" for i in data]\n",
    "data =  [[18, 20], [45, 2], [61, 12], [37, 6], [21, 21], [78, 9]]\n",
    "openOrSenior(data)"
   ]
  },
  {
   "cell_type": "markdown",
   "id": "ad6c9a03",
   "metadata": {},
   "source": [
    "### Highest and Lowest"
   ]
  },
  {
   "cell_type": "markdown",
   "id": "46b2b107",
   "metadata": {},
   "source": [
    "#### In this little assignment you are given a string of space separated numbers, and have to return the highest and lowest number."
   ]
  },
  {
   "cell_type": "code",
   "execution_count": 134,
   "id": "0e66f291",
   "metadata": {},
   "outputs": [
    {
     "data": {
      "text/plain": [
       "'7 -3'"
      ]
     },
     "execution_count": 134,
     "metadata": {},
     "output_type": "execute_result"
    }
   ],
   "source": [
    "def high_and_low(numbers):\n",
    "    a = [int(x) for x in numbers.split()]\n",
    "    return str(max(a)) +' '+ str(min(a))\n",
    "high_and_low(\"5 2 7 4 -3\")"
   ]
  },
  {
   "cell_type": "markdown",
   "id": "c52d68c1",
   "metadata": {},
   "source": [
    "### Mumbling"
   ]
  },
  {
   "cell_type": "markdown",
   "id": "66a229e8",
   "metadata": {},
   "source": [
    "#### This time no story, no theory. The examples below show you how to write function accum:"
   ]
  },
  {
   "cell_type": "code",
   "execution_count": 138,
   "id": "12fd1d8a",
   "metadata": {},
   "outputs": [
    {
     "data": {
      "text/plain": [
       "'A-Bb-Ccc-Dddd-Eeeee'"
      ]
     },
     "execution_count": 138,
     "metadata": {},
     "output_type": "execute_result"
    }
   ],
   "source": [
    "# enumerate - Return an enumerate object. https://docs.python.org/3/library/functions.html#enumerate\n",
    "def accum(s):\n",
    "    return '-'.join(c.upper() + c.lower() * i for i, c in enumerate(s))\n",
    "accum('abcde')"
   ]
  },
  {
   "cell_type": "markdown",
   "id": "45b62e30",
   "metadata": {},
   "source": [
    "### Sorted? yes? no? how?"
   ]
  },
  {
   "cell_type": "markdown",
   "id": "41dd6e5d",
   "metadata": {},
   "source": [
    "#### Complete the method which accepts an array of integers, and returns one of the following:"
   ]
  },
  {
   "cell_type": "code",
   "execution_count": 154,
   "id": "9b7527b8",
   "metadata": {},
   "outputs": [
    {
     "data": {
      "text/plain": [
       "'yes, descending'"
      ]
     },
     "execution_count": 154,
     "metadata": {},
     "output_type": "execute_result"
    }
   ],
   "source": [
    "def is_sorted_and_how(arr):\n",
    "    if sorted(arr) == arr:\n",
    "        return(\"yes, ascending\")\n",
    "    elif sorted(arr) == arr[::-1]:\n",
    "        return(\"yes, descending\")\n",
    "    else:\n",
    "        return(\"no\")\n",
    "is_sorted_and_how([3, 2, 1])"
   ]
  },
  {
   "cell_type": "markdown",
   "id": "42435392",
   "metadata": {},
   "source": [
    "### Summing a number's digits"
   ]
  },
  {
   "cell_type": "markdown",
   "id": "a0d08eb1",
   "metadata": {},
   "source": [
    "#### Write a function named sumDigits which takes a number as input and returns the sum of the absolute value of each of the number's decimal digits."
   ]
  },
  {
   "cell_type": "code",
   "execution_count": 177,
   "id": "e92f692b",
   "metadata": {},
   "outputs": [
    {
     "name": "stdout",
     "output_type": "stream",
     "text": [
      "['-', '5', '1']\n"
     ]
    }
   ],
   "source": [
    "def sum_digits(number):\n",
    "    a = 0\n",
    "    total = list(str(number))\n",
    "    print (total)\n",
    "sum_digits(-51)"
   ]
  },
  {
   "cell_type": "code",
   "execution_count": 172,
   "id": "9fc2115f",
   "metadata": {},
   "outputs": [
    {
     "data": {
      "text/plain": [
       "6"
      ]
     },
     "execution_count": 172,
     "metadata": {},
     "output_type": "execute_result"
    }
   ],
   "source": [
    "def sum_digits(number):\n",
    "  number = abs(number);       #Make all digits positive\n",
    "  total = 0;\n",
    "  digits = list(str(number));\n",
    "  for digit in digits:\n",
    "    num = int(digit);\n",
    "    total += num;\n",
    "  return total;\n",
    "sum_digits(-51)"
   ]
  },
  {
   "cell_type": "code",
   "execution_count": null,
   "id": "f552caa7",
   "metadata": {},
   "outputs": [],
   "source": []
  },
  {
   "cell_type": "code",
   "execution_count": null,
   "id": "478758ba",
   "metadata": {},
   "outputs": [],
   "source": []
  },
  {
   "cell_type": "code",
   "execution_count": null,
   "id": "959cbf79",
   "metadata": {},
   "outputs": [],
   "source": []
  },
  {
   "cell_type": "code",
   "execution_count": null,
   "id": "a6e07978",
   "metadata": {},
   "outputs": [],
   "source": []
  },
  {
   "cell_type": "code",
   "execution_count": null,
   "id": "350b7138",
   "metadata": {},
   "outputs": [],
   "source": []
  },
  {
   "cell_type": "code",
   "execution_count": null,
   "id": "ec3db018",
   "metadata": {},
   "outputs": [],
   "source": []
  }
 ],
 "metadata": {
  "kernelspec": {
   "display_name": "Python 3 (ipykernel)",
   "language": "python",
   "name": "python3"
  },
  "language_info": {
   "codemirror_mode": {
    "name": "ipython",
    "version": 3
   },
   "file_extension": ".py",
   "mimetype": "text/x-python",
   "name": "python",
   "nbconvert_exporter": "python",
   "pygments_lexer": "ipython3",
   "version": "3.9.7"
  }
 },
 "nbformat": 4,
 "nbformat_minor": 5
}
