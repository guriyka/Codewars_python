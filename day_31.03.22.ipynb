{
 "cells": [
  {
   "cell_type": "markdown",
   "id": "1e0caefa",
   "metadata": {},
   "source": [
    "### Anagram Detection"
   ]
  },
  {
   "cell_type": "markdown",
   "id": "aafd45d8",
   "metadata": {},
   "source": [
    "#### An anagram is the result of rearranging the letters of a word to produce a new word (see wikipedia). Note: anagrams are case insensitive. Complete the function to return true if the two arguments given are anagrams of each other; return false otherwise."
   ]
  },
  {
   "cell_type": "code",
   "execution_count": 1,
   "id": "6edf0606",
   "metadata": {},
   "outputs": [],
   "source": [
    "def is_anagram(test, original):\n",
    "    return sorted(original.lower()) == sorted(test.lower())"
   ]
  },
  {
   "cell_type": "markdown",
   "id": "66cad539",
   "metadata": {},
   "source": [
    "### Find the capitals"
   ]
  },
  {
   "cell_type": "markdown",
   "id": "b878f3b8",
   "metadata": {},
   "source": [
    "#### Write a function that takes a single string (word) as argument. The function must return an ordered list containing the indexes of all capital letters in the string."
   ]
  },
  {
   "cell_type": "code",
   "execution_count": 30,
   "id": "e4c82cdc",
   "metadata": {},
   "outputs": [
    {
     "data": {
      "text/plain": [
       "[0, 3, 7, 8]"
      ]
     },
     "execution_count": 30,
     "metadata": {},
     "output_type": "execute_result"
    }
   ],
   "source": [
    "def capitals_1(word):\n",
    "    a = []\n",
    "    d = 0\n",
    "    for i in word:\n",
    "        if  i.isupper(): # Return True if all cased characters in the string are uppercase and there is at least one cased character, False otherwise\n",
    "            a.append(d)\n",
    "        d += 1\n",
    "    return a\n",
    "capitals_1('WerIlkjVB')\n"
   ]
  },
  {
   "cell_type": "code",
   "execution_count": 33,
   "id": "82594c64",
   "metadata": {},
   "outputs": [
    {
     "data": {
      "text/plain": [
       "[0, 3, 7, 8]"
      ]
     },
     "execution_count": 33,
     "metadata": {},
     "output_type": "execute_result"
    }
   ],
   "source": [
    "# enumerate - Return an enumerate object. https://docs.python.org/3/library/functions.html#enumerate\n",
    "def capitals(word):\n",
    "    return [i for (i, c) in enumerate(word) if c.isupper()]\n",
    "capitals('WerIlkjVB')"
   ]
  },
  {
   "cell_type": "markdown",
   "id": "48c9634d",
   "metadata": {},
   "source": [
    "### Find the next perfect square!"
   ]
  },
  {
   "cell_type": "markdown",
   "id": "075ff38d",
   "metadata": {},
   "source": [
    "#### Complete the findNextSquare method that finds the next integral perfect square after the one passed as a parameter If the parameter is itself not a perfect square then -1 "
   ]
  },
  {
   "cell_type": "code",
   "execution_count": 61,
   "id": "82c4d8a7",
   "metadata": {},
   "outputs": [
    {
     "data": {
      "text/plain": [
       "144"
      ]
     },
     "execution_count": 61,
     "metadata": {},
     "output_type": "execute_result"
    }
   ],
   "source": [
    "import math\n",
    "def find_next_square(sq):\n",
    "    n = (math.sqrt(sq))\n",
    "    if int(n)**2 == sq:\n",
    "        return int((n+1)**2)\n",
    "    else:\n",
    "        return -1\n",
    "find_next_square(121)"
   ]
  },
  {
   "cell_type": "markdown",
   "id": "4cb86526",
   "metadata": {},
   "source": [
    "### Simple Fun: Reverse Letter"
   ]
  },
  {
   "cell_type": "markdown",
   "id": "34fdde4c",
   "metadata": {},
   "source": [
    "#### Given a string str, reverse it omitting all non-alphabetic characters."
   ]
  },
  {
   "cell_type": "code",
   "execution_count": 70,
   "id": "5ff05eba",
   "metadata": {},
   "outputs": [
    {
     "name": "stdout",
     "output_type": "stream",
     "text": [
      "hfdkJds\n"
     ]
    }
   ],
   "source": [
    "def reverse_letter(string):\n",
    "    a = [c for c in string if c.isalpha()]\n",
    "    result = ''.join(a)[::-1]\n",
    "    print(result)\n",
    "reverse_letter('sd85Jkdfh')          "
   ]
  },
  {
   "cell_type": "code",
   "execution_count": 71,
   "id": "f7dbe403",
   "metadata": {},
   "outputs": [],
   "source": [
    "def reverse_letter(s):\n",
    "  return ''.join([i for i in s if i.isalpha()])[::-1]"
   ]
  },
  {
   "cell_type": "markdown",
   "id": "b598cc1f",
   "metadata": {},
   "source": [
    "### Sum of Minimums"
   ]
  },
  {
   "cell_type": "markdown",
   "id": "1c076259",
   "metadata": {},
   "source": [
    "#### Given a 2D ( nested ) list ( array, vector, .. ) of size m * n, your task is to find the sum of the minimum values in each row."
   ]
  },
  {
   "cell_type": "code",
   "execution_count": 87,
   "id": "bfb5df99",
   "metadata": {},
   "outputs": [
    {
     "data": {
      "text/plain": [
       "26"
      ]
     },
     "execution_count": 87,
     "metadata": {},
     "output_type": "execute_result"
    }
   ],
   "source": [
    "def sum_of_minimums(numbers):\n",
    "    return sum(min(i) for i in numbers)\n",
    "sum_of_minimums([ [ 1, 2, 3, 4, 5 ]        #  minimum value of row is 1\n",
    "                , [ 5, 6, 7, 8, 9 ]        #  minimum value of row is 5\n",
    "                , [ 20, 21, 34, 56, 100 ]  #  minimum value of row is 20\n",
    "                ])"
   ]
  },
  {
   "cell_type": "markdown",
   "id": "9764bf78",
   "metadata": {},
   "source": [
    "### Isograms"
   ]
  },
  {
   "cell_type": "markdown",
   "id": "006c4be7",
   "metadata": {},
   "source": [
    "### An isogram is a word that has no repeating letters, consecutive or non-consecutive. Implement a function that determines whether a string that contains only letters is an isogram. Assume the empty string is an isogram. Ignore letter case."
   ]
  },
  {
   "cell_type": "code",
   "execution_count": 102,
   "id": "8809ba07",
   "metadata": {},
   "outputs": [
    {
     "data": {
      "text/plain": [
       "False"
      ]
     },
     "execution_count": 102,
     "metadata": {},
     "output_type": "execute_result"
    }
   ],
   "source": [
    "def is_isogram(string):\n",
    "    if len(string.lower()) == len(set(string.lower())):\n",
    "        return True\n",
    "    return False\n",
    "is_isogram('yhYnmjuik')"
   ]
  },
  {
   "cell_type": "code",
   "execution_count": null,
   "id": "5a863e23",
   "metadata": {},
   "outputs": [],
   "source": []
  },
  {
   "cell_type": "code",
   "execution_count": null,
   "id": "898e9c93",
   "metadata": {},
   "outputs": [],
   "source": []
  },
  {
   "cell_type": "code",
   "execution_count": null,
   "id": "c0ef19bc",
   "metadata": {},
   "outputs": [],
   "source": []
  },
  {
   "cell_type": "code",
   "execution_count": null,
   "id": "b0714457",
   "metadata": {},
   "outputs": [],
   "source": []
  },
  {
   "cell_type": "code",
   "execution_count": null,
   "id": "ba5d9cff",
   "metadata": {},
   "outputs": [],
   "source": []
  },
  {
   "cell_type": "code",
   "execution_count": null,
   "id": "cb4c3aed",
   "metadata": {},
   "outputs": [],
   "source": []
  }
 ],
 "metadata": {
  "kernelspec": {
   "display_name": "Python 3 (ipykernel)",
   "language": "python",
   "name": "python3"
  },
  "language_info": {
   "codemirror_mode": {
    "name": "ipython",
    "version": 3
   },
   "file_extension": ".py",
   "mimetype": "text/x-python",
   "name": "python",
   "nbconvert_exporter": "python",
   "pygments_lexer": "ipython3",
   "version": "3.9.7"
  }
 },
 "nbformat": 4,
 "nbformat_minor": 5
}
