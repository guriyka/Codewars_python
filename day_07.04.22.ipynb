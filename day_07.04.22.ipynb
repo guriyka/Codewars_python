{
 "cells": [
  {
   "cell_type": "markdown",
   "id": "a5229e2f",
   "metadata": {},
   "source": [
    "#### get_even_numbers([2,4,5,6]) => [2,4,6]"
   ]
  },
  {
   "cell_type": "code",
   "execution_count": 1,
   "id": "cc36c1ed",
   "metadata": {},
   "outputs": [],
   "source": [
    "def get_even_numbers(arr):\n",
    "    k = []\n",
    "    for i in arr:\n",
    "        if i%2 == 0:\n",
    "            k.append(i)            \n",
    "        else:\n",
    "            continue\n",
    "    return k"
   ]
  },
  {
   "cell_type": "code",
   "execution_count": 2,
   "id": "6b6baee2",
   "metadata": {},
   "outputs": [],
   "source": [
    "def get_even_numbers(arr):\n",
    "    return [x for x in arr if x % 2 == 0]"
   ]
  },
  {
   "cell_type": "markdown",
   "id": "b3d179bf",
   "metadata": {},
   "source": [
    "#### Count the number of divisors of a positive integer."
   ]
  },
  {
   "cell_type": "code",
   "execution_count": 9,
   "id": "7f18908f",
   "metadata": {},
   "outputs": [
    {
     "data": {
      "text/plain": [
       "8"
      ]
     },
     "execution_count": 9,
     "metadata": {},
     "output_type": "execute_result"
    }
   ],
   "source": [
    "def divisors(n):\n",
    "    k = 0\n",
    "    for i in range(1,n+1):\n",
    "        if n%i == 0:\n",
    "            k+=1\n",
    "        \n",
    "    return k\n",
    "divisors(30)"
   ]
  },
  {
   "cell_type": "code",
   "execution_count": 10,
   "id": "ab9fc96e",
   "metadata": {},
   "outputs": [],
   "source": [
    "def divisors(n):\n",
    "    return sum(1 for i in xrange(1, n + 1) if n % i == 0)"
   ]
  },
  {
   "cell_type": "markdown",
   "id": "9b46bdf9",
   "metadata": {},
   "source": [
    "#### You are going to be given a word. Your job is to return the middle character of the word. If the word's length is odd, return the middle character. If the word's length is even, return the middle 2 characters."
   ]
  },
  {
   "cell_type": "code",
   "execution_count": 25,
   "id": "95fdfdae",
   "metadata": {},
   "outputs": [],
   "source": [
    "def get_middle(s):\n",
    "    if int(len(s)%2) != 0:\n",
    "        return s[int(len(s)/2)]\n",
    "    else:\n",
    "        return (s[int(len(s)/2)-1] + s[int(len(s)/2)])"
   ]
  },
  {
   "cell_type": "code",
   "execution_count": null,
   "id": "4f8db2f4",
   "metadata": {},
   "outputs": [],
   "source": [
    "def get_middle(s):\n",
    "   return s[(len(s)-1)/2:len(s)/2+1]"
   ]
  },
  {
   "cell_type": "markdown",
   "id": "98dbcd3d",
   "metadata": {},
   "source": [
    "#### You are given an odd-length array of integers, in which all of them are the same, except for one single number."
   ]
  },
  {
   "cell_type": "code",
   "execution_count": null,
   "id": "ed04d76c",
   "metadata": {},
   "outputs": [],
   "source": [
    "        test.assert_equals(stray([1, 1, 1, 1, 1, 1, 2]), 2)\n",
    "        test.assert_equals(stray([2, 3, 2, 2, 2]), 3)\n",
    "        test.assert_equals(stray([3, 2, 2, 2, 2]), 3)"
   ]
  },
  {
   "cell_type": "code",
   "execution_count": 31,
   "id": "bd439040",
   "metadata": {},
   "outputs": [],
   "source": [
    "def stray(arr):\n",
    "    return [num for num in arr if arr.count(num) == 1][0]"
   ]
  },
  {
   "cell_type": "code",
   "execution_count": 33,
   "id": "7963282f",
   "metadata": {},
   "outputs": [
    {
     "data": {
      "text/plain": [
       "3"
      ]
     },
     "execution_count": 33,
     "metadata": {},
     "output_type": "execute_result"
    }
   ],
   "source": [
    "stray([2, 3, 2, 2, 2])"
   ]
  },
  {
   "cell_type": "code",
   "execution_count": null,
   "id": "c437a48f",
   "metadata": {},
   "outputs": [],
   "source": []
  },
  {
   "cell_type": "code",
   "execution_count": null,
   "id": "96603628",
   "metadata": {},
   "outputs": [],
   "source": []
  },
  {
   "cell_type": "code",
   "execution_count": null,
   "id": "678c194f",
   "metadata": {},
   "outputs": [],
   "source": []
  },
  {
   "cell_type": "code",
   "execution_count": null,
   "id": "b1f3b7bb",
   "metadata": {},
   "outputs": [],
   "source": []
  },
  {
   "cell_type": "code",
   "execution_count": null,
   "id": "4dc9ad8c",
   "metadata": {},
   "outputs": [],
   "source": []
  },
  {
   "cell_type": "code",
   "execution_count": null,
   "id": "9bee459b",
   "metadata": {},
   "outputs": [],
   "source": []
  },
  {
   "cell_type": "code",
   "execution_count": null,
   "id": "8917c236",
   "metadata": {},
   "outputs": [],
   "source": []
  },
  {
   "cell_type": "code",
   "execution_count": null,
   "id": "d0816b69",
   "metadata": {},
   "outputs": [],
   "source": []
  },
  {
   "cell_type": "code",
   "execution_count": null,
   "id": "ecdc902c",
   "metadata": {},
   "outputs": [],
   "source": []
  },
  {
   "cell_type": "code",
   "execution_count": null,
   "id": "4e444a79",
   "metadata": {},
   "outputs": [],
   "source": []
  },
  {
   "cell_type": "code",
   "execution_count": null,
   "id": "495af492",
   "metadata": {},
   "outputs": [],
   "source": []
  },
  {
   "cell_type": "code",
   "execution_count": null,
   "id": "90372db2",
   "metadata": {},
   "outputs": [],
   "source": []
  }
 ],
 "metadata": {
  "kernelspec": {
   "display_name": "Python 3 (ipykernel)",
   "language": "python",
   "name": "python3"
  },
  "language_info": {
   "codemirror_mode": {
    "name": "ipython",
    "version": 3
   },
   "file_extension": ".py",
   "mimetype": "text/x-python",
   "name": "python",
   "nbconvert_exporter": "python",
   "pygments_lexer": "ipython3",
   "version": "3.9.7"
  }
 },
 "nbformat": 4,
 "nbformat_minor": 5
}
