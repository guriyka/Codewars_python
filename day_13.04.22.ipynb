{
 "cells": [
  {
   "cell_type": "code",
   "execution_count": null,
   "id": "71c9e52f",
   "metadata": {},
   "outputs": [],
   "source": [
    "# Your goal in this kata is to implement a difference function, which subtracts one list from another and returns the result.\n",
    "# It should remove all values from list a, which are present in list b keeping their order."
   ]
  },
  {
   "cell_type": "code",
   "execution_count": 10,
   "id": "14dde9eb",
   "metadata": {},
   "outputs": [],
   "source": [
    "def array_diff(a, b):\n",
    "    return [i for i in a if i not in b]"
   ]
  },
  {
   "cell_type": "code",
   "execution_count": 11,
   "id": "5258ce83",
   "metadata": {},
   "outputs": [],
   "source": [
    "# Implement a function which convert the given boolean value into its string representation.\n",
    "def boolean_to_string(b):\n",
    "    return (str(b))"
   ]
  },
  {
   "cell_type": "code",
   "execution_count": null,
   "id": "b0da25db",
   "metadata": {},
   "outputs": [],
   "source": [
    "def dna_to_rna(dna):\n",
    "    return "
   ]
  },
  {
   "cell_type": "code",
   "execution_count": 14,
   "id": "3a6c9a94",
   "metadata": {},
   "outputs": [],
   "source": [
    "# Deoxyribonucleic acid, DNA is the primary information storage molecule in biological systems. It is composed of four nucleic acid bases Guanine ('G'), Cytosine ('C'), Adenine ('A'), and Thymine ('T').\n",
    "# Ribonucleic acid, RNA, is the primary messenger molecule in cells. RNA differs slightly from DNA its chemical structure and contains no Thymine. In RNA Thymine is replaced by another nucleic acid Uracil ('U').\n",
    "# Create a function which translates a given DNA string into RNA.\n",
    "def dna_to_rna(dna):\n",
    "    return dna.replace('T', 'U')"
   ]
  },
  {
   "cell_type": "code",
   "execution_count": null,
   "id": "500abcf2",
   "metadata": {},
   "outputs": [],
   "source": [
    "# Create a function that returns the sum of the two lowest positive numbers given an array of minimum 4 positive integers. \n",
    "# No floats or non-positive integers will be passed.\n",
    "def sum_two_smallest_numbers(numbers):\n",
    "    return(sum(sorted(numbers)[0:2]))"
   ]
  },
  {
   "cell_type": "code",
   "execution_count": null,
   "id": "efe937c0",
   "metadata": {},
   "outputs": [],
   "source": []
  },
  {
   "cell_type": "code",
   "execution_count": null,
   "id": "29c29fb2",
   "metadata": {},
   "outputs": [],
   "source": []
  },
  {
   "cell_type": "code",
   "execution_count": null,
   "id": "e6d13417",
   "metadata": {},
   "outputs": [],
   "source": []
  },
  {
   "cell_type": "code",
   "execution_count": null,
   "id": "f2532bae",
   "metadata": {},
   "outputs": [],
   "source": []
  },
  {
   "cell_type": "code",
   "execution_count": null,
   "id": "b11b84d7",
   "metadata": {},
   "outputs": [],
   "source": []
  },
  {
   "cell_type": "code",
   "execution_count": null,
   "id": "e1f0dac1",
   "metadata": {},
   "outputs": [],
   "source": []
  },
  {
   "cell_type": "code",
   "execution_count": null,
   "id": "171ce6ad",
   "metadata": {},
   "outputs": [],
   "source": []
  }
 ],
 "metadata": {
  "kernelspec": {
   "display_name": "Python 3 (ipykernel)",
   "language": "python",
   "name": "python3"
  },
  "language_info": {
   "codemirror_mode": {
    "name": "ipython",
    "version": 3
   },
   "file_extension": ".py",
   "mimetype": "text/x-python",
   "name": "python",
   "nbconvert_exporter": "python",
   "pygments_lexer": "ipython3",
   "version": "3.9.7"
  }
 },
 "nbformat": 4,
 "nbformat_minor": 5
}
